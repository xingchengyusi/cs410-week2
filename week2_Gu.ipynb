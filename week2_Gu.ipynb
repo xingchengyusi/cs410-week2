{
 "cells": [
  {
   "cell_type": "markdown",
   "metadata": {},
   "source": [
    "# CS410 week 2 in-class assignment\n",
    "\n",
    "Import all dependencies."
   ]
  },
  {
   "cell_type": "code",
   "execution_count": 1,
   "metadata": {},
   "outputs": [],
   "source": [
    "import pandas as pd\n",
    "import numpy as np\n",
    "import seaborn as sns\n",
    "from matplotlib import pyplot as plt\n",
    "from urllib.request import urlopen\n",
    "from bs4 import BeautifulSoup\n",
    "import re"
   ]
  },
  {
   "cell_type": "markdown",
   "metadata": {
    "pycharm": {
     "name": "#%% md\n"
    }
   },
   "source": [
    "## Data Gathering"
   ]
  },
  {
   "cell_type": "code",
   "execution_count": 2,
   "outputs": [],
   "source": [
    "# open url.\n",
    "url = \"http://www.hubertiming.com/results/2017GPTR10K\"\n",
    "html = urlopen(url)"
   ],
   "metadata": {
    "collapsed": false,
    "pycharm": {
     "name": "#%%\n"
    }
   }
  },
  {
   "cell_type": "code",
   "execution_count": 3,
   "metadata": {},
   "outputs": [
    {
     "data": {
      "text/plain": "bs4.BeautifulSoup"
     },
     "execution_count": 3,
     "metadata": {},
     "output_type": "execute_result"
    }
   ],
   "source": [
    "# change type to lxml\n",
    "soup = BeautifulSoup(html, 'lxml')\n",
    "type(soup)"
   ]
  },
  {
   "cell_type": "code",
   "execution_count": 4,
   "metadata": {},
   "outputs": [
    {
     "data": {
      "text/plain": "'Race results for the 2017 Intel Great Place to Run \\\\ Urban Clash Games!'"
     },
     "execution_count": 4,
     "metadata": {},
     "output_type": "execute_result"
    }
   ],
   "source": [
    "title = soup.title.string\n",
    "title"
   ]
  },
  {
   "cell_type": "code",
   "execution_count": 5,
   "metadata": {},
   "outputs": [],
   "source": [
    "# get all text\n",
    "text = soup.get_text()"
   ]
  },
  {
   "cell_type": "code",
   "execution_count": 6,
   "metadata": {},
   "outputs": [],
   "source": [
    "# extract the hyperlink\n",
    "all_links = soup.find_all('a')"
   ]
  },
  {
   "cell_type": "code",
   "execution_count": 7,
   "outputs": [
    {
     "data": {
      "text/plain": "[<tr colspan=\"2\">\n <b>10K:</b>\n </tr>,\n <tr>\n <td>Finishers:</td>\n <td>577</td>\n </tr>,\n <tr>\n <td>Male:</td>\n <td>414</td>\n </tr>,\n <tr>\n <td>Female:</td>\n <td>163</td>\n </tr>,\n <tr class=\"header\">\n <th>Place</th>\n <th>Bib</th>\n <th>Name</th>\n <th>Gender</th>\n <th>City</th>\n <th>State</th>\n <th>Chip Time</th>\n <th>Chip Pace</th>\n <th>Gun Time</th>\n <th>Team</th>\n </tr>]"
     },
     "execution_count": 7,
     "metadata": {},
     "output_type": "execute_result"
    }
   ],
   "source": [
    "# extract the table row\n",
    "all_rows = soup.find_all('tr')\n",
    "all_rows[:5]"
   ],
   "metadata": {
    "collapsed": false,
    "pycharm": {
     "name": "#%%\n"
    }
   }
  },
  {
   "cell_type": "code",
   "execution_count": 8,
   "outputs": [
    {
     "data": {
      "text/plain": "['[]',\n '[ Finishers: ,  577 ]',\n '[ Male: ,  414 ]',\n '[ Female: ,  163 ]',\n '[]',\n '[ 1 ,  814 ,  \\r\\n\\r\\n                    JARED WILSON\\r\\n\\r\\n                 ,  M ,  TIGARD ,  OR ,  36:21 ,  5:51 ,  36:24 ,   ]']"
     },
     "execution_count": 8,
     "metadata": {},
     "output_type": "execute_result"
    }
   ],
   "source": [
    "# extract all cells\n",
    "cleaned_cells = []\n",
    "for row in all_rows:\n",
    "    cells = row.find_all('td')\n",
    "    sub = re.compile('<.*?>')\n",
    "    clean = re.sub(sub, ' ', str(cells))\n",
    "    cleaned_cells.append(clean)\n",
    "\n",
    "cleaned_cells[:6]"
   ],
   "metadata": {
    "collapsed": false,
    "pycharm": {
     "name": "#%%\n"
    }
   }
  },
  {
   "cell_type": "code",
   "execution_count": 9,
   "outputs": [
    {
     "data": {
      "text/plain": "'[Place, Bib, Name, Gender, City, State, Chip Time, Chip Pace, Gun Time, Team]'"
     },
     "execution_count": 9,
     "metadata": {},
     "output_type": "execute_result"
    }
   ],
   "source": [
    "# extract header\n",
    "labels = soup.find_all('th')\n",
    "header_text = BeautifulSoup(str(labels), 'lxml').get_text()\n",
    "header_text"
   ],
   "metadata": {
    "collapsed": false,
    "pycharm": {
     "name": "#%%\n"
    }
   }
  },
  {
   "cell_type": "code",
   "execution_count": 10,
   "outputs": [
    {
     "data": {
      "text/plain": "                                                   0\n0                              [ Finishers: ,  577 ]\n1                                   [ Male: ,  414 ]\n2                                 [ Female: ,  163 ]\n3                                                 []\n4  [ 1 ,  814 ,  \\r\\n\\r\\n                    JARE...\n5  [ 2 ,  573 ,  \\r\\n\\r\\n                    NATH...\n6  [ 3 ,  687 ,  \\r\\n\\r\\n                    FRAN...\n7  [ 4 ,  623 ,  \\r\\n\\r\\n                    PAUL...\n8  [ 5 ,  569 ,  \\r\\n\\r\\n                    DERE...\n9  [ 6 ,  642 ,  \\r\\n\\r\\n                    JONA...",
      "text/html": "<div>\n<style scoped>\n    .dataframe tbody tr th:only-of-type {\n        vertical-align: middle;\n    }\n\n    .dataframe tbody tr th {\n        vertical-align: top;\n    }\n\n    .dataframe thead th {\n        text-align: right;\n    }\n</style>\n<table border=\"1\" class=\"dataframe\">\n  <thead>\n    <tr style=\"text-align: right;\">\n      <th></th>\n      <th>0</th>\n    </tr>\n  </thead>\n  <tbody>\n    <tr>\n      <th>0</th>\n      <td>[ Finishers: ,  577 ]</td>\n    </tr>\n    <tr>\n      <th>1</th>\n      <td>[ Male: ,  414 ]</td>\n    </tr>\n    <tr>\n      <th>2</th>\n      <td>[ Female: ,  163 ]</td>\n    </tr>\n    <tr>\n      <th>3</th>\n      <td>[]</td>\n    </tr>\n    <tr>\n      <th>4</th>\n      <td>[ 1 ,  814 ,  \\r\\n\\r\\n                    JARE...</td>\n    </tr>\n    <tr>\n      <th>5</th>\n      <td>[ 2 ,  573 ,  \\r\\n\\r\\n                    NATH...</td>\n    </tr>\n    <tr>\n      <th>6</th>\n      <td>[ 3 ,  687 ,  \\r\\n\\r\\n                    FRAN...</td>\n    </tr>\n    <tr>\n      <th>7</th>\n      <td>[ 4 ,  623 ,  \\r\\n\\r\\n                    PAUL...</td>\n    </tr>\n    <tr>\n      <th>8</th>\n      <td>[ 5 ,  569 ,  \\r\\n\\r\\n                    DERE...</td>\n    </tr>\n    <tr>\n      <th>9</th>\n      <td>[ 6 ,  642 ,  \\r\\n\\r\\n                    JONA...</td>\n    </tr>\n  </tbody>\n</table>\n</div>"
     },
     "execution_count": 10,
     "metadata": {},
     "output_type": "execute_result"
    }
   ],
   "source": [
    "# trans to pandas dataframe\n",
    "df = pd.DataFrame(cleaned_cells[1:])\n",
    "df.head(10)"
   ],
   "metadata": {
    "collapsed": false,
    "pycharm": {
     "name": "#%%\n"
    }
   }
  },
  {
   "cell_type": "code",
   "execution_count": 11,
   "outputs": [
    {
     "data": {
      "text/plain": "                                                   0\n0  [Place, Bib, Name, Gender, City, State, Chip T...",
      "text/html": "<div>\n<style scoped>\n    .dataframe tbody tr th:only-of-type {\n        vertical-align: middle;\n    }\n\n    .dataframe tbody tr th {\n        vertical-align: top;\n    }\n\n    .dataframe thead th {\n        text-align: right;\n    }\n</style>\n<table border=\"1\" class=\"dataframe\">\n  <thead>\n    <tr style=\"text-align: right;\">\n      <th></th>\n      <th>0</th>\n    </tr>\n  </thead>\n  <tbody>\n    <tr>\n      <th>0</th>\n      <td>[Place, Bib, Name, Gender, City, State, Chip T...</td>\n    </tr>\n  </tbody>\n</table>\n</div>"
     },
     "execution_count": 11,
     "metadata": {},
     "output_type": "execute_result"
    }
   ],
   "source": [
    "# trans header to dataframe\n",
    "df_header = pd.DataFrame([header_text])\n",
    "df_header.head()"
   ],
   "metadata": {
    "collapsed": false,
    "pycharm": {
     "name": "#%%\n"
    }
   }
  },
  {
   "cell_type": "markdown",
   "source": [
    "## Data Transformation"
   ],
   "metadata": {
    "collapsed": false
   }
  },
  {
   "cell_type": "code",
   "execution_count": 12,
   "outputs": [
    {
     "data": {
      "text/plain": "               0        1                                                  2  \\\n0  [ Finishers:     577 ]                                               None   \n1       [ Male:     414 ]                                               None   \n2     [ Female:     163 ]                                               None   \n3             []     None                                               None   \n4           [ 1      814     \\r\\n\\r\\n                    JARED WILSON\\r\\n...   \n5           [ 2      573     \\r\\n\\r\\n                    NATHAN A SUSTERS...   \n6           [ 3      687     \\r\\n\\r\\n                    FRANCISCO MAYA\\r...   \n7           [ 4      623     \\r\\n\\r\\n                    PAUL MORROW\\r\\n\\...   \n8           [ 5      569     \\r\\n\\r\\n                    DEREK G OSBORNE\\...   \n9           [ 6      642     \\r\\n\\r\\n                    JONATHON TRAN\\r\\...   \n\n      3             4      5         6        7         8  \\\n0  None          None   None      None     None      None   \n1  None          None   None      None     None      None   \n2  None          None   None      None     None      None   \n3  None          None   None      None     None      None   \n4    M        TIGARD     OR     36:21     5:51     36:24    \n5    M      PORTLAND     OR     36:42     5:55     36:45    \n6    M      PORTLAND     OR     37:44     6:05     37:48    \n7    M     BEAVERTON     OR     38:34     6:13     38:37    \n8    M     HILLSBORO     OR     39:21     6:20     39:24    \n9    M      PORTLAND     OR     39:49     6:25     39:55    \n\n                                                   9  \n0                                               None  \n1                                               None  \n2                                               None  \n3                                               None  \n4                                                  ]  \n5    \\n \\r\\n                            INTEL TEA...  \n6                                                  ]  \n7                                                  ]  \n8    \\n \\r\\n                            INTEL TEA...  \n9                                                  ]  ",
      "text/html": "<div>\n<style scoped>\n    .dataframe tbody tr th:only-of-type {\n        vertical-align: middle;\n    }\n\n    .dataframe tbody tr th {\n        vertical-align: top;\n    }\n\n    .dataframe thead th {\n        text-align: right;\n    }\n</style>\n<table border=\"1\" class=\"dataframe\">\n  <thead>\n    <tr style=\"text-align: right;\">\n      <th></th>\n      <th>0</th>\n      <th>1</th>\n      <th>2</th>\n      <th>3</th>\n      <th>4</th>\n      <th>5</th>\n      <th>6</th>\n      <th>7</th>\n      <th>8</th>\n      <th>9</th>\n    </tr>\n  </thead>\n  <tbody>\n    <tr>\n      <th>0</th>\n      <td>[ Finishers:</td>\n      <td>577 ]</td>\n      <td>None</td>\n      <td>None</td>\n      <td>None</td>\n      <td>None</td>\n      <td>None</td>\n      <td>None</td>\n      <td>None</td>\n      <td>None</td>\n    </tr>\n    <tr>\n      <th>1</th>\n      <td>[ Male:</td>\n      <td>414 ]</td>\n      <td>None</td>\n      <td>None</td>\n      <td>None</td>\n      <td>None</td>\n      <td>None</td>\n      <td>None</td>\n      <td>None</td>\n      <td>None</td>\n    </tr>\n    <tr>\n      <th>2</th>\n      <td>[ Female:</td>\n      <td>163 ]</td>\n      <td>None</td>\n      <td>None</td>\n      <td>None</td>\n      <td>None</td>\n      <td>None</td>\n      <td>None</td>\n      <td>None</td>\n      <td>None</td>\n    </tr>\n    <tr>\n      <th>3</th>\n      <td>[]</td>\n      <td>None</td>\n      <td>None</td>\n      <td>None</td>\n      <td>None</td>\n      <td>None</td>\n      <td>None</td>\n      <td>None</td>\n      <td>None</td>\n      <td>None</td>\n    </tr>\n    <tr>\n      <th>4</th>\n      <td>[ 1</td>\n      <td>814</td>\n      <td>\\r\\n\\r\\n                    JARED WILSON\\r\\n...</td>\n      <td>M</td>\n      <td>TIGARD</td>\n      <td>OR</td>\n      <td>36:21</td>\n      <td>5:51</td>\n      <td>36:24</td>\n      <td>]</td>\n    </tr>\n    <tr>\n      <th>5</th>\n      <td>[ 2</td>\n      <td>573</td>\n      <td>\\r\\n\\r\\n                    NATHAN A SUSTERS...</td>\n      <td>M</td>\n      <td>PORTLAND</td>\n      <td>OR</td>\n      <td>36:42</td>\n      <td>5:55</td>\n      <td>36:45</td>\n      <td>\\n \\r\\n                            INTEL TEA...</td>\n    </tr>\n    <tr>\n      <th>6</th>\n      <td>[ 3</td>\n      <td>687</td>\n      <td>\\r\\n\\r\\n                    FRANCISCO MAYA\\r...</td>\n      <td>M</td>\n      <td>PORTLAND</td>\n      <td>OR</td>\n      <td>37:44</td>\n      <td>6:05</td>\n      <td>37:48</td>\n      <td>]</td>\n    </tr>\n    <tr>\n      <th>7</th>\n      <td>[ 4</td>\n      <td>623</td>\n      <td>\\r\\n\\r\\n                    PAUL MORROW\\r\\n\\...</td>\n      <td>M</td>\n      <td>BEAVERTON</td>\n      <td>OR</td>\n      <td>38:34</td>\n      <td>6:13</td>\n      <td>38:37</td>\n      <td>]</td>\n    </tr>\n    <tr>\n      <th>8</th>\n      <td>[ 5</td>\n      <td>569</td>\n      <td>\\r\\n\\r\\n                    DEREK G OSBORNE\\...</td>\n      <td>M</td>\n      <td>HILLSBORO</td>\n      <td>OR</td>\n      <td>39:21</td>\n      <td>6:20</td>\n      <td>39:24</td>\n      <td>\\n \\r\\n                            INTEL TEA...</td>\n    </tr>\n    <tr>\n      <th>9</th>\n      <td>[ 6</td>\n      <td>642</td>\n      <td>\\r\\n\\r\\n                    JONATHON TRAN\\r\\...</td>\n      <td>M</td>\n      <td>PORTLAND</td>\n      <td>OR</td>\n      <td>39:49</td>\n      <td>6:25</td>\n      <td>39:55</td>\n      <td>]</td>\n    </tr>\n  </tbody>\n</table>\n</div>"
     },
     "execution_count": 12,
     "metadata": {},
     "output_type": "execute_result"
    }
   ],
   "source": [
    "# split info.\n",
    "df = df[0].str.split(',', expand=True)\n",
    "df.head(10)"
   ],
   "metadata": {
    "collapsed": false,
    "pycharm": {
     "name": "#%%\n"
    }
   }
  },
  {
   "cell_type": "code",
   "execution_count": 13,
   "outputs": [
    {
     "data": {
      "text/plain": "        0     1      2        3      4       5           6           7  \\\n0  [Place   Bib   Name   Gender   City   State   Chip Time   Chip Pace   \n\n           8       9  \n0   Gun Time   Team]  ",
      "text/html": "<div>\n<style scoped>\n    .dataframe tbody tr th:only-of-type {\n        vertical-align: middle;\n    }\n\n    .dataframe tbody tr th {\n        vertical-align: top;\n    }\n\n    .dataframe thead th {\n        text-align: right;\n    }\n</style>\n<table border=\"1\" class=\"dataframe\">\n  <thead>\n    <tr style=\"text-align: right;\">\n      <th></th>\n      <th>0</th>\n      <th>1</th>\n      <th>2</th>\n      <th>3</th>\n      <th>4</th>\n      <th>5</th>\n      <th>6</th>\n      <th>7</th>\n      <th>8</th>\n      <th>9</th>\n    </tr>\n  </thead>\n  <tbody>\n    <tr>\n      <th>0</th>\n      <td>[Place</td>\n      <td>Bib</td>\n      <td>Name</td>\n      <td>Gender</td>\n      <td>City</td>\n      <td>State</td>\n      <td>Chip Time</td>\n      <td>Chip Pace</td>\n      <td>Gun Time</td>\n      <td>Team]</td>\n    </tr>\n  </tbody>\n</table>\n</div>"
     },
     "execution_count": 13,
     "metadata": {},
     "output_type": "execute_result"
    }
   ],
   "source": [
    "# add header.\n",
    "df_header = df_header[0].str.split(',', expand=True)\n",
    "df_header.head()"
   ],
   "metadata": {
    "collapsed": false,
    "pycharm": {
     "name": "#%%\n"
    }
   }
  },
  {
   "cell_type": "code",
   "execution_count": 14,
   "outputs": [
    {
     "data": {
      "text/plain": "   Place  Bib                Name Gender       City State Chip Time Chip Pace  \\\n4      1  814        JARED WILSON      M     TIGARD    OR     36:21      5:51   \n5      2  573  NATHAN A SUSTERSIC      M   PORTLAND    OR     36:42      5:55   \n6      3  687      FRANCISCO MAYA      M   PORTLAND    OR     37:44      6:05   \n7      4  623         PAUL MORROW      M  BEAVERTON    OR     38:34      6:13   \n8      5  569     DEREK G OSBORNE      M  HILLSBORO    OR     39:21      6:20   \n9      6  642       JONATHON TRAN      M   PORTLAND    OR     39:49      6:25   \n10     7  144     GEORGE TOTONCHY      M   PORTLAND    OR     40:04      6:27   \n11     8  395  BENJAMIN C CHAFFIN      M   PORTLAND    OR     40:05      6:27   \n12     9    7      BRANDON THOMAS      M                      40:17      6:29   \n13    10    3      ERIK BJORNSTAD      M                      40:21      6:30   \n\n   Gun Time             Team  \n4     36:24                   \n5     36:45     INTEL TEAM F  \n6     37:48                   \n7     38:37                   \n8     39:24     INTEL TEAM F  \n9     39:55                   \n10    40:17                   \n11    40:09                   \n12    40:24  COLUMBIA TEAM B  \n13    40:25  COLUMBIA TEAM A  ",
      "text/html": "<div>\n<style scoped>\n    .dataframe tbody tr th:only-of-type {\n        vertical-align: middle;\n    }\n\n    .dataframe tbody tr th {\n        vertical-align: top;\n    }\n\n    .dataframe thead th {\n        text-align: right;\n    }\n</style>\n<table border=\"1\" class=\"dataframe\">\n  <thead>\n    <tr style=\"text-align: right;\">\n      <th></th>\n      <th>Place</th>\n      <th>Bib</th>\n      <th>Name</th>\n      <th>Gender</th>\n      <th>City</th>\n      <th>State</th>\n      <th>Chip Time</th>\n      <th>Chip Pace</th>\n      <th>Gun Time</th>\n      <th>Team</th>\n    </tr>\n  </thead>\n  <tbody>\n    <tr>\n      <th>4</th>\n      <td>1</td>\n      <td>814</td>\n      <td>JARED WILSON</td>\n      <td>M</td>\n      <td>TIGARD</td>\n      <td>OR</td>\n      <td>36:21</td>\n      <td>5:51</td>\n      <td>36:24</td>\n      <td></td>\n    </tr>\n    <tr>\n      <th>5</th>\n      <td>2</td>\n      <td>573</td>\n      <td>NATHAN A SUSTERSIC</td>\n      <td>M</td>\n      <td>PORTLAND</td>\n      <td>OR</td>\n      <td>36:42</td>\n      <td>5:55</td>\n      <td>36:45</td>\n      <td>INTEL TEAM F</td>\n    </tr>\n    <tr>\n      <th>6</th>\n      <td>3</td>\n      <td>687</td>\n      <td>FRANCISCO MAYA</td>\n      <td>M</td>\n      <td>PORTLAND</td>\n      <td>OR</td>\n      <td>37:44</td>\n      <td>6:05</td>\n      <td>37:48</td>\n      <td></td>\n    </tr>\n    <tr>\n      <th>7</th>\n      <td>4</td>\n      <td>623</td>\n      <td>PAUL MORROW</td>\n      <td>M</td>\n      <td>BEAVERTON</td>\n      <td>OR</td>\n      <td>38:34</td>\n      <td>6:13</td>\n      <td>38:37</td>\n      <td></td>\n    </tr>\n    <tr>\n      <th>8</th>\n      <td>5</td>\n      <td>569</td>\n      <td>DEREK G OSBORNE</td>\n      <td>M</td>\n      <td>HILLSBORO</td>\n      <td>OR</td>\n      <td>39:21</td>\n      <td>6:20</td>\n      <td>39:24</td>\n      <td>INTEL TEAM F</td>\n    </tr>\n    <tr>\n      <th>9</th>\n      <td>6</td>\n      <td>642</td>\n      <td>JONATHON TRAN</td>\n      <td>M</td>\n      <td>PORTLAND</td>\n      <td>OR</td>\n      <td>39:49</td>\n      <td>6:25</td>\n      <td>39:55</td>\n      <td></td>\n    </tr>\n    <tr>\n      <th>10</th>\n      <td>7</td>\n      <td>144</td>\n      <td>GEORGE TOTONCHY</td>\n      <td>M</td>\n      <td>PORTLAND</td>\n      <td>OR</td>\n      <td>40:04</td>\n      <td>6:27</td>\n      <td>40:17</td>\n      <td></td>\n    </tr>\n    <tr>\n      <th>11</th>\n      <td>8</td>\n      <td>395</td>\n      <td>BENJAMIN C CHAFFIN</td>\n      <td>M</td>\n      <td>PORTLAND</td>\n      <td>OR</td>\n      <td>40:05</td>\n      <td>6:27</td>\n      <td>40:09</td>\n      <td></td>\n    </tr>\n    <tr>\n      <th>12</th>\n      <td>9</td>\n      <td>7</td>\n      <td>BRANDON THOMAS</td>\n      <td>M</td>\n      <td></td>\n      <td></td>\n      <td>40:17</td>\n      <td>6:29</td>\n      <td>40:24</td>\n      <td>COLUMBIA TEAM B</td>\n    </tr>\n    <tr>\n      <th>13</th>\n      <td>10</td>\n      <td>3</td>\n      <td>ERIK BJORNSTAD</td>\n      <td>M</td>\n      <td></td>\n      <td></td>\n      <td>40:21</td>\n      <td>6:30</td>\n      <td>40:25</td>\n      <td>COLUMBIA TEAM A</td>\n    </tr>\n  </tbody>\n</table>\n</div>"
     },
     "execution_count": 14,
     "metadata": {},
     "output_type": "execute_result"
    }
   ],
   "source": [
    "# combine header and content and clean all information.\n",
    "df = pd.concat([df_header, df])\n",
    "\n",
    "# split unuseful line\n",
    "df = df.dropna(axis=0, how='any')\n",
    "\n",
    "# clean all data, include [, ], \\r, \\n.\n",
    "df_obj = df.select_dtypes(['object'])\n",
    "df[df_obj.columns] = df_obj.apply(lambda x: x.str.strip('[] \\r\\n'))\n",
    "\n",
    "# rename\n",
    "df = df.rename(columns=df.iloc[0])\n",
    "df = df.drop(df.index[0])\n",
    "df.head(10)"
   ],
   "metadata": {
    "collapsed": false,
    "pycharm": {
     "name": "#%%\n"
    }
   }
  },
  {
   "cell_type": "markdown",
   "source": [
    "## Data Analysis and Visualization\n",
    "\n",
    "### What was the average finish time (in minutes) for the runners?"
   ],
   "metadata": {
    "collapsed": false,
    "pycharm": {
     "name": "#%% md\n"
    }
   }
  },
  {
   "cell_type": "code",
   "execution_count": 15,
   "outputs": [
    {
     "data": {
      "text/plain": "       Runner_mins\ncount   577.000000\nmean     60.035933\nstd      11.970623\nmin      36.350000\n25%      51.000000\n50%      59.016667\n75%      67.266667\nmax     101.300000",
      "text/html": "<div>\n<style scoped>\n    .dataframe tbody tr th:only-of-type {\n        vertical-align: middle;\n    }\n\n    .dataframe tbody tr th {\n        vertical-align: top;\n    }\n\n    .dataframe thead th {\n        text-align: right;\n    }\n</style>\n<table border=\"1\" class=\"dataframe\">\n  <thead>\n    <tr style=\"text-align: right;\">\n      <th></th>\n      <th>Runner_mins</th>\n    </tr>\n  </thead>\n  <tbody>\n    <tr>\n      <th>count</th>\n      <td>577.000000</td>\n    </tr>\n    <tr>\n      <th>mean</th>\n      <td>60.035933</td>\n    </tr>\n    <tr>\n      <th>std</th>\n      <td>11.970623</td>\n    </tr>\n    <tr>\n      <th>min</th>\n      <td>36.350000</td>\n    </tr>\n    <tr>\n      <th>25%</th>\n      <td>51.000000</td>\n    </tr>\n    <tr>\n      <th>50%</th>\n      <td>59.016667</td>\n    </tr>\n    <tr>\n      <th>75%</th>\n      <td>67.266667</td>\n    </tr>\n    <tr>\n      <th>max</th>\n      <td>101.300000</td>\n    </tr>\n  </tbody>\n</table>\n</div>"
     },
     "execution_count": 15,
     "metadata": {},
     "output_type": "execute_result"
    }
   ],
   "source": [
    "time_list = df['Chip Time'].tolist()\n",
    "\n",
    "# to int and minute.\n",
    "# TODO: improve time convert\n",
    "time_min = []\n",
    "for time in time_list:\n",
    "    t = time.split(':')\n",
    "    if len(t) == 2:\n",
    "        tm = int(t[0]) + int(t[1])/60\n",
    "    elif len(t) == 3:\n",
    "        tm = int(t[0]) *60 + int(t[1]) + int(t[2])/60\n",
    "    time_min.append(tm)\n",
    "\n",
    "df['Runner_mins'] = time_min\n",
    "# describe runner mins\n",
    "df.describe(include=[np.number])"
   ],
   "metadata": {
    "collapsed": false,
    "pycharm": {
     "name": "#%%\n"
    }
   }
  },
  {
   "cell_type": "code",
   "execution_count": 16,
   "outputs": [
    {
     "data": {
      "text/plain": "<Figure size 1080x360 with 1 Axes>",
      "image/png": "[encoded data removed]"
     },
     "metadata": {
      "needs_background": "light"
     },
     "output_type": "display_data"
    }
   ],
   "source": [
    "# create graph\n",
    "plt.rcParams['figure.figsize'] = 15, 5\n",
    "\n",
    "df.boxplot(column='Runner_mins')\n",
    "plt.grid(True, axis='y')\n",
    "plt.ylabel('Chip Time')\n",
    "plt.xticks([1], ['Runners'])\n",
    "plt.title('Average Finish Time (in minutes)')\n",
    "plt.show()"
   ],
   "metadata": {
    "collapsed": false,
    "pycharm": {
     "name": "#%%\n"
    }
   }
  },
  {
   "cell_type": "markdown",
   "source": [
    "### Did the runners' finish times follow a normal distribution?"
   ],
   "metadata": {
    "collapsed": false,
    "pycharm": {
     "name": "#%% md\n"
    }
   }
  },
  {
   "cell_type": "code",
   "execution_count": 17,
   "outputs": [
    {
     "name": "stderr",
     "output_type": "stream",
     "text": [
      "/Users/gdajun/.conda/envs/myenv/lib/python3.8/site-packages/seaborn/distributions.py:2557: FutureWarning: `distplot` is a deprecated function and will be removed in a future version. Please adapt your code to use either `displot` (a figure-level function with similar flexibility) or `histplot` (an axes-level function for histograms).\n",
      "  warnings.warn(msg, FutureWarning)\n"
     ]
    },
    {
     "data": {
      "text/plain": "<Figure size 1080x360 with 1 Axes>",
      "image/png": "[encoded data removed]"
     },
     "metadata": {
      "needs_background": "light"
     },
     "output_type": "display_data"
    }
   ],
   "source": [
    "ax = sns.distplot(df['Runner_mins'],\n",
    "                  hist=True,\n",
    "                  kde=True,\n",
    "                  rug=False,\n",
    "                  color='m',\n",
    "                  bins=25,\n",
    "                  hist_kws={'edgecolor':'black'})\\\n",
    "    .set_title('Finish Time Distribution')\n",
    "plt.show()"
   ],
   "metadata": {
    "collapsed": false,
    "pycharm": {
     "name": "#%%\n"
    }
   }
  },
  {
   "cell_type": "code",
   "execution_count": 18,
   "outputs": [
    {
     "name": "stderr",
     "output_type": "stream",
     "text": [
      "/Users/gdajun/.conda/envs/myenv/lib/python3.8/site-packages/seaborn/distributions.py:2557: FutureWarning: `distplot` is a deprecated function and will be removed in a future version. Please adapt your code to use either `displot` (a figure-level function with similar flexibility) or `histplot` (an axes-level function for histograms).\n",
      "  warnings.warn(msg, FutureWarning)\n",
      "/Users/gdajun/.conda/envs/myenv/lib/python3.8/site-packages/seaborn/distributions.py:2557: FutureWarning: `distplot` is a deprecated function and will be removed in a future version. Please adapt your code to use either `displot` (a figure-level function with similar flexibility) or `kdeplot` (an axes-level function for kernel density plots).\n",
      "  warnings.warn(msg, FutureWarning)\n"
     ]
    },
    {
     "data": {
      "text/plain": "<matplotlib.legend.Legend at 0x7f7f3f948a60>"
     },
     "execution_count": 18,
     "metadata": {},
     "output_type": "execute_result"
    },
    {
     "data": {
      "text/plain": "<Figure size 1080x360 with 1 Axes>",
      "image/png": "[encoded data removed]"
     },
     "metadata": {
      "needs_background": "light"
     },
     "output_type": "display_data"
    }
   ],
   "source": [
    "f_fuko = df.loc[df['Gender']=='F']['Runner_mins']\n",
    "m_fuko = df.loc[df['Gender']=='M']['Runner_mins']\n",
    "sns.distplot(f_fuko,\n",
    "             hist=True,\n",
    "             kde=True,\n",
    "             rug=False,\n",
    "             hist_kws={'edgecolor':'black'},\n",
    "             label='Female')\n",
    "sns.distplot(m_fuko,\n",
    "             hist=False,\n",
    "             kde=True,\n",
    "             rug=False,\n",
    "             hist_kws={'edgecolor':'black'},\n",
    "             label='Male')\n",
    "\n",
    "plt.legend()"
   ],
   "metadata": {
    "collapsed": false,
    "pycharm": {
     "name": "#%%\n"
    }
   }
  },
  {
   "cell_type": "markdown",
   "source": [
    "### Were there any performance differences between males and females of various age groups?"
   ],
   "metadata": {
    "collapsed": false,
    "pycharm": {
     "name": "#%% md\n"
    }
   }
  },
  {
   "cell_type": "code",
   "execution_count": 19,
   "outputs": [
    {
     "data": {
      "text/plain": "       Runner_mins                                                         \\\n             count       mean        std        min        25%        50%   \nGender                                                                      \nF            163.0  66.119223  12.184440  43.766667  58.758333  64.616667   \nM            414.0  57.640821  11.011857  36.350000  49.395833  55.791667   \n\n                               \n              75%         max  \nGender                         \nF       72.058333  101.300000  \nM       64.804167   98.516667  ",
      "text/html": "<div>\n<style scoped>\n    .dataframe tbody tr th:only-of-type {\n        vertical-align: middle;\n    }\n\n    .dataframe tbody tr th {\n        vertical-align: top;\n    }\n\n    .dataframe thead tr th {\n        text-align: left;\n    }\n\n    .dataframe thead tr:last-of-type th {\n        text-align: right;\n    }\n</style>\n<table border=\"1\" class=\"dataframe\">\n  <thead>\n    <tr>\n      <th></th>\n      <th colspan=\"8\" halign=\"left\">Runner_mins</th>\n    </tr>\n    <tr>\n      <th></th>\n      <th>count</th>\n      <th>mean</th>\n      <th>std</th>\n      <th>min</th>\n      <th>25%</th>\n      <th>50%</th>\n      <th>75%</th>\n      <th>max</th>\n    </tr>\n    <tr>\n      <th>Gender</th>\n      <th></th>\n      <th></th>\n      <th></th>\n      <th></th>\n      <th></th>\n      <th></th>\n      <th></th>\n      <th></th>\n    </tr>\n  </thead>\n  <tbody>\n    <tr>\n      <th>F</th>\n      <td>163.0</td>\n      <td>66.119223</td>\n      <td>12.184440</td>\n      <td>43.766667</td>\n      <td>58.758333</td>\n      <td>64.616667</td>\n      <td>72.058333</td>\n      <td>101.300000</td>\n    </tr>\n    <tr>\n      <th>M</th>\n      <td>414.0</td>\n      <td>57.640821</td>\n      <td>11.011857</td>\n      <td>36.350000</td>\n      <td>49.395833</td>\n      <td>55.791667</td>\n      <td>64.804167</td>\n      <td>98.516667</td>\n    </tr>\n  </tbody>\n</table>\n</div>"
     },
     "execution_count": 19,
     "metadata": {},
     "output_type": "execute_result"
    }
   ],
   "source": [
    "g_stats = df.groupby(\"Gender\", as_index=True).describe()\n",
    "g_stats"
   ],
   "metadata": {
    "collapsed": false,
    "pycharm": {
     "name": "#%%\n"
    }
   }
  },
  {
   "cell_type": "code",
   "execution_count": 20,
   "outputs": [
    {
     "data": {
      "text/plain": "Text(0.5, 0.98, '')"
     },
     "execution_count": 20,
     "metadata": {},
     "output_type": "execute_result"
    },
    {
     "data": {
      "text/plain": "<Figure size 1080x360 with 1 Axes>",
      "image/png": "[encoded data removed]"
     },
     "metadata": {
      "needs_background": "light"
     },
     "output_type": "display_data"
    }
   ],
   "source": [
    "df.boxplot(column='Runner_mins', by='Gender')\n",
    "plt.ylabel('Chip Time')\n",
    "plt.xticks([1, 2], ('Females', 'Males'))\n",
    "plt.title('Performance Differences Between Males and Females')\n",
    "plt.suptitle('')"
   ],
   "metadata": {
    "collapsed": false,
    "pycharm": {
     "name": "#%%\n"
    }
   }
  }
 ],
 "metadata": {
  "kernelspec": {
   "display_name": "Python 3",
   "language": "python",
   "name": "python3"
  },
  "language_info": {
   "codemirror_mode": {
    "name": "ipython",
    "version": 3
   },
   "file_extension": ".py",
   "mimetype": "text/x-python",
   "name": "python",
   "nbconvert_exporter": "python",
   "pygments_lexer": "ipython3",
   "version": "3.8.5"
  }
 },
 "nbformat": 4,
 "nbformat_minor": 4
}